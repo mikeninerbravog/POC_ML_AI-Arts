{
  "nbformat": 4,
  "nbformat_minor": 0,
  "metadata": {
    "colab": {
      "provenance": [],
      "authorship_tag": "ABX9TyNPD20wt7uXemSbzoc4lgzQ",
      "include_colab_link": true
    },
    "kernelspec": {
      "name": "python3",
      "display_name": "Python 3"
    },
    "language_info": {
      "name": "python"
    }
  },
  "cells": [
    {
      "cell_type": "markdown",
      "metadata": {
        "id": "view-in-github",
        "colab_type": "text"
      },
      "source": [
        "<a href=\"https://colab.research.google.com/github/mikeninerbravog/POC_ML_AI-Arts/blob/master/POC_ML_AI_Arts.ipynb\" target=\"_parent\"><img src=\"https://colab.research.google.com/assets/colab-badge.svg\" alt=\"Open In Colab\"/></a>"
      ]
    },
    {
      "cell_type": "code",
      "execution_count": 2,
      "metadata": {
        "colab": {
          "base_uri": "https://localhost:8080/"
        },
        "id": "aOqQ3d8NLQex",
        "outputId": "43078506-75c4-4992-f3a6-37a5a4231c8b"
      },
      "outputs": [
        {
          "output_type": "stream",
          "name": "stdout",
          "text": [
            "{0.0} <music21.note.Note D>\n",
            "{0.5} <music21.note.Note E>\n",
            "{1.0} <music21.note.Note B>\n",
            "{2.5} <music21.note.Note D>\n",
            "{3.0} <music21.note.Note A>\n",
            "{4.0} <music21.note.Note F>\n",
            "{6.0} <music21.note.Note B>\n",
            "{8.0} <music21.note.Note G>\n",
            "{8.5} <music21.note.Note F>\n",
            "{10.0} <music21.note.Note F>\n",
            "Usuário: A IA pode compor música?\n",
            "Chatbot: Sim, a IA pode criar melodias e harmonias baseadas em padrões musicais.\n"
          ]
        }
      ],
      "source": [
        "\"\"\"\n",
        "O código ilustra três aplicações da IA na arte:\n",
        "\n",
        "Geração de Arte Visual: Criação de imagens abstratas com padrões geométricos aleatórios.\n",
        "Composição Musical: Geração de melodias usando notas e acordes aleatórios.\n",
        "Chatbot Criativo: Um assistente simples para responder perguntas sobre IA e arte.\n",
        "\n",
        "\"\"\"\n",
        "\n",
        "from PIL import Image, ImageDraw, ImageFont\n",
        "import random\n",
        "import numpy as np\n",
        "from music21 import stream, note, chord\n",
        "\n",
        "# 1. Geração de Arte com IA (Imagem Aleatória com Padrões)\n",
        "def gerar_arte():\n",
        "    \"\"\"\n",
        "    Simula a criação de uma obra de arte abstrata usando padrões geométricos.\n",
        "    \"\"\"\n",
        "    largura, altura = 500, 500\n",
        "    imagem = Image.new(\"RGB\", (largura, altura), \"white\")\n",
        "    desenho = ImageDraw.Draw(imagem)\n",
        "\n",
        "    # Gerar padrões geométricos aleatórios\n",
        "    for _ in range(20):\n",
        "        x1, y1 = random.randint(0, largura), random.randint(0, altura)\n",
        "        x2, y2 = random.randint(0, largura), random.randint(0, altura)\n",
        "        cor = tuple(np.random.randint(0, 255, 3))\n",
        "        desenho.line([x1, y1, x2, y2], fill=cor, width=3)\n",
        "\n",
        "    imagem.show()\n",
        "    return imagem\n",
        "\n",
        "# 2. Composição Musical com IA\n",
        "def gerar_musica():\n",
        "    \"\"\"\n",
        "    Simula a geração de uma melodia simples com IA.\n",
        "    \"\"\"\n",
        "    melodia = stream.Stream()\n",
        "\n",
        "    notas_possiveis = [\"C\", \"D\", \"E\", \"F\", \"G\", \"A\", \"B\"]\n",
        "    duracoes = [0.5, 1.0, 1.5, 2.0]\n",
        "\n",
        "    for _ in range(10):\n",
        "        if random.random() < 0.8:\n",
        "            n = note.Note(random.choice(notas_possiveis))\n",
        "        else:\n",
        "            n = chord.Chord([random.choice(notas_possiveis), random.choice(notas_possiveis)])\n",
        "        n.quarterLength = random.choice(duracoes)\n",
        "        melodia.append(n)\n",
        "\n",
        "    melodia.show('text')  # Exibir a sequência musical em formato textual\n",
        "    return melodia\n",
        "\n",
        "# 3. Chatbot Criativo Simples\n",
        "def chatbot_arte(pergunta):\n",
        "    \"\"\"\n",
        "    Chatbot simples para responder dúvidas sobre IA e arte.\n",
        "    Esse chatbot pode ser expandido para um assistente autônomo e interativo.\n",
        "    \"\"\"\n",
        "    respostas = {\n",
        "        \"Como a IA pode ajudar os artistas?\": \"A IA pode gerar ideias, automatizar tarefas e criar novas formas de expressão.\",\n",
        "        \"A IA pode compor música?\": \"Sim, a IA pode criar melodias e harmonias baseadas em padrões musicais.\",\n",
        "        \"A IA substitui a criatividade humana?\": \"Não, a IA é uma ferramenta que auxilia a criatividade, mas não substitui a visão artística única de cada criador.\",\n",
        "    }\n",
        "    return respostas.get(pergunta, \"Desculpe, não entendi sua pergunta.\")\n",
        "\n",
        "# Executando as funções\n",
        "gerar_arte()\n",
        "gerar_musica()\n",
        "\n",
        "# Exemplo de interação com o chatbot\n",
        "pergunta = \"A IA pode compor música?\"\n",
        "print(f\"Usuário: {pergunta}\")\n",
        "print(f\"Chatbot: {chatbot_arte(pergunta)}\")\n"
      ]
    },
    {
      "cell_type": "markdown",
      "source": [
        "### **1. Geração da Melodia pela IA**\n",
        "O código usou a biblioteca **music21** para criar uma **sequência musical** gerada aleatoriamente. A melodia contém **notas individuais** e **acordes**, com suas respectivas **durações temporais** (valores entre `{}` indicam o momento em que cada nota ou acorde ocorre na linha do tempo da composição).\n",
        "\n",
        "#### **Interpretação da saída**\n",
        "| Tempo (s) | Elemento Musical |\n",
        "|-----------|-----------------|\n",
        "| **0.0**  | Nota **F** (Fá) |\n",
        "| **1.0**  | Acorde **C-G** (Dó e Sol tocados juntos) |\n",
        "| **1.5**  | Nota **G** (Sol) |\n",
        "| **3.5**  | Nota **E** (Mi) |\n",
        "| **5.5**  | Acorde **B-E** (Si e Mi tocados juntos) |\n",
        "| **6.0**  | Nota **A** (Lá) |\n",
        "| **8.0**  | Acorde **C-G** (Dó e Sol novamente) |\n",
        "| **9.0**  | Acorde **F-F** (Fá dobrado, provavelmente para reforço harmônico) |\n",
        "| **9.5**  | Nota **D** (Ré) |\n",
        "| **10.0** | Nota **D** (Ré novamente) |\n",
        "\n",
        "#### **O que isso significa?**\n",
        "- A IA criou uma sequência **aleatória, mas musicalmente coerente**.\n",
        "- Há **variação entre notas únicas e acordes**, o que traz uma sensação de **melodia e harmonia combinadas**.\n",
        "- A duração das notas varia, dando um ritmo natural à composição.\n",
        "- Repetições de acordes e notas (como C-G aparecendo duas vezes) podem ser padrões aprendidos a partir da estrutura musical.\n",
        "\n",
        "---\n",
        "\n",
        "### **2. Resposta do Chatbot**\n",
        "O chatbot foi consultado com a pergunta **\"A IA pode compor música?\"**, e respondeu:\n",
        "> *\"Sim, a IA pode criar melodias e harmonias baseadas em padrões musicais.\"*\n",
        "\n",
        "Essa resposta está alinhada com o que foi demonstrado na **Prova de Conceito (PoC)**: a IA pode gerar música combinando padrões rítmicos, notas e acordes.\n",
        "\n",
        "---\n",
        "\n",
        "### **Resumo**\n",
        "- A IA conseguiu **compor uma pequena peça musical**, organizando notas e acordes de maneira estruturalmente válida.\n",
        "- O chatbot complementou a PoC explicando como a IA pode gerar músicas, reforçando seu papel como **ferramenta criativa**.\n",
        "- Esse modelo pode ser expandido para **compor músicas mais complexas**, **imitar estilos específicos** ou **gerar variações melódicas baseadas em preferências do usuário**."
      ],
      "metadata": {
        "id": "bVNfTElyLwAD"
      }
    }
  ]
}